{
  "nbformat": 4,
  "nbformat_minor": 0,
  "metadata": {
    "colab": {
      "provenance": [],
      "authorship_tag": "ABX9TyOQtQkJS2m2byHQE2snplsG",
      "include_colab_link": true
    },
    "kernelspec": {
      "name": "python3",
      "display_name": "Python 3"
    },
    "language_info": {
      "name": "python"
    }
  },
  "cells": [
    {
      "cell_type": "markdown",
      "metadata": {
        "id": "view-in-github",
        "colab_type": "text"
      },
      "source": [
        "<a href=\"https://colab.research.google.com/github/doanhtdpl/boom-game/blob/master/Tokenizer.ipynb\" target=\"_parent\"><img src=\"https://colab.research.google.com/assets/colab-badge.svg\" alt=\"Open In Colab\"/></a>"
      ]
    },
    {
      "cell_type": "code",
      "execution_count": 2,
      "metadata": {
        "colab": {
          "base_uri": "https://localhost:8080/"
        },
        "id": "TQ36eGf4gWrU",
        "outputId": "042d83e7-ca07-470e-bbcf-ca74143d628a"
      },
      "outputs": [
        {
          "output_type": "execute_result",
          "data": {
            "text/plain": [
              "{'<OOV>': 1,\n",
              " 'my': 2,\n",
              " 'i': 3,\n",
              " 'vietnam': 4,\n",
              " 'vietnamese': 5,\n",
              " 'love': 6,\n",
              " 'people': 7,\n",
              " 'are': 8,\n",
              " 'pretty': 9,\n",
              " 'friendly': 10,\n",
              " 'mom': 11,\n",
              " 'loves': 12,\n",
              " 'cooking': 13,\n",
              " 'am': 14}"
            ]
          },
          "metadata": {},
          "execution_count": 2
        }
      ],
      "source": [
        "from tensorflow.keras.preprocessing.text import Tokenizer\n",
        "sentences = [\n",
        "             'I I I I I I love Vietnam Vietnam Vietnam Vietnam',\n",
        "             'Vietnamese people are pretty friendly',\n",
        "             'My My My My My My My My mom loves cooking',\n",
        "             'I am Vietnamese'\n",
        "]\n",
        "tokenizer = Tokenizer(num_words=100, oov_token=\"<OOV>\")\n",
        "tokenizer.fit_on_texts(sentences)\n",
        "\n",
        "word_index = tokenizer.word_index\n",
        "word_index"
      ]
    }
  ]
}