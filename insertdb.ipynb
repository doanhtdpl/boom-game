{
  "nbformat": 4,
  "nbformat_minor": 0,
  "metadata": {
    "colab": {
      "provenance": [],
      "authorship_tag": "ABX9TyPl2tCfgqvnUfNoLtf/hB39",
      "include_colab_link": true
    },
    "kernelspec": {
      "name": "python3",
      "display_name": "Python 3"
    },
    "language_info": {
      "name": "python"
    }
  },
  "cells": [
    {
      "cell_type": "markdown",
      "metadata": {
        "id": "view-in-github",
        "colab_type": "text"
      },
      "source": [
        "<a href=\"https://colab.research.google.com/github/doanhtdpl/boom-game/blob/master/insertdb.ipynb\" target=\"_parent\"><img src=\"https://colab.research.google.com/assets/colab-badge.svg\" alt=\"Open In Colab\"/></a>"
      ]
    },
    {
      "cell_type": "code",
      "execution_count": null,
      "metadata": {
        "id": "wlCmdHjxZJ7X"
      },
      "outputs": [],
      "source": [
        "from pymongo import MongoClient\n",
        "from sentence_transformers import SentenceTransformer\n",
        "\n",
        "# Kết nối tới MongoDB qua IP (sửa IP nếu cần)\n",
        "client = MongoClient(\"mongodb://192.168.1.251:27017\")\n",
        "db = client[\"ai\"]\n",
        "collection = db[\"test\"]\n",
        "\n",
        "# Load mô hình để tạo embedding\n",
        "model = SentenceTransformer(\"all-MiniLM-L6-v2\")\n",
        "\n",
        "# Văn bản mẫu\n",
        "text = \"Đây là văn bản mẫu để test lưu embedding vào MongoDB.\"\n",
        "\n",
        "# Tạo embedding\n",
        "embedding = model.encode(text).tolist()\n",
        "\n",
        "# Tạo document và insert vào MongoDB\n",
        "collection.insert_one({\n",
        "    \"text\": text,\n",
        "    \"embedding\": embedding\n",
        "})\n",
        "\n",
        "print(\"✅ Đã insert thành công vào MongoDB.\")\n"
      ]
    },
    {
      "cell_type": "code",
      "source": [
        "!pip install pymongo"
      ],
      "metadata": {
        "colab": {
          "base_uri": "https://localhost:8080/"
        },
        "id": "L7sMPgATZe1N",
        "outputId": "a8fc416f-745d-49d0-e3eb-0a25239d8bed"
      },
      "execution_count": 2,
      "outputs": [
        {
          "output_type": "stream",
          "name": "stdout",
          "text": [
            "Collecting pymongo\n",
            "  Downloading pymongo-4.13.0-cp311-cp311-manylinux_2_17_x86_64.manylinux2014_x86_64.whl.metadata (22 kB)\n",
            "Collecting dnspython<3.0.0,>=1.16.0 (from pymongo)\n",
            "  Downloading dnspython-2.7.0-py3-none-any.whl.metadata (5.8 kB)\n",
            "Downloading pymongo-4.13.0-cp311-cp311-manylinux_2_17_x86_64.manylinux2014_x86_64.whl (1.4 MB)\n",
            "\u001b[2K   \u001b[90m━━━━━━━━━━━━━━━━━━━━━━━━━━━━━━━━━━━━━━━━\u001b[0m \u001b[32m1.4/1.4 MB\u001b[0m \u001b[31m17.5 MB/s\u001b[0m eta \u001b[36m0:00:00\u001b[0m\n",
            "\u001b[?25hDownloading dnspython-2.7.0-py3-none-any.whl (313 kB)\n",
            "\u001b[2K   \u001b[90m━━━━━━━━━━━━━━━━━━━━━━━━━━━━━━━━━━━━━━━━\u001b[0m \u001b[32m313.6/313.6 kB\u001b[0m \u001b[31m21.7 MB/s\u001b[0m eta \u001b[36m0:00:00\u001b[0m\n",
            "\u001b[?25hInstalling collected packages: dnspython, pymongo\n",
            "Successfully installed dnspython-2.7.0 pymongo-4.13.0\n"
          ]
        }
      ]
    }
  ]
}